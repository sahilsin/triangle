{
  "nbformat": 4,
  "nbformat_minor": 0,
  "metadata": {
    "colab": {
      "name": "triangle.ipynb",
      "provenance": [],
      "authorship_tag": "ABX9TyN29i/B82loLG9jHQLUO7Nv",
      "include_colab_link": true
    },
    "kernelspec": {
      "name": "python3",
      "display_name": "Python 3"
    }
  },
  "cells": [
    {
      "cell_type": "markdown",
      "metadata": {
        "id": "view-in-github",
        "colab_type": "text"
      },
      "source": [
        "<a href=\"https://colab.research.google.com/github/sahilsin/triangle/blob/main/triangle.ipynb\" target=\"_parent\"><img src=\"https://colab.research.google.com/assets/colab-badge.svg\" alt=\"Open In Colab\"/></a>"
      ]
    },
    {
      "cell_type": "code",
      "metadata": {
        "colab": {
          "base_uri": "https://localhost:8080/"
        },
        "id": "m2jeohz6Yn6b",
        "outputId": "e5b6729b-f190-462b-a12e-284406daf0cd"
      },
      "source": [
        "from google.colab import drive\n",
        "drive.mount('/content/gdrive')"
      ],
      "execution_count": 1,
      "outputs": [
        {
          "output_type": "stream",
          "text": [
            "Mounted at /content/gdrive\n"
          ],
          "name": "stdout"
        }
      ]
    },
    {
      "cell_type": "code",
      "metadata": {
        "colab": {
          "base_uri": "https://localhost:8080/",
          "height": 296
        },
        "id": "3G8PwUBRY9JO",
        "outputId": "56129019-82a2-4bfd-a84b-f67aeee427c8"
      },
      "source": [
        "#Code by GVV Sharma\n",
        "#December 7, 2019\n",
        "#released under GNU GPL\n",
        "#Drawing a triangle given 3 sides\n",
        "import numpy as np\n",
        "import matplotlib.pyplot as plt\n",
        "#from coeffs import *\n",
        "\n",
        "\n",
        "#if using termux\n",
        "import subprocess\n",
        "import shlex\n",
        "#end if\n",
        "\n",
        "\n",
        "def line_gen(A,B):\n",
        "  len =10\n",
        "  dim = A.shape[0]\n",
        "  x_AB = np.zeros((dim,len))\n",
        "  lam_1 = np.linspace(0,1,len)\n",
        "  for i in range(len):\n",
        "    temp1 = A + lam_1[i]*(B-A)\n",
        "    x_AB[:,i]= temp1.T\n",
        "  return x_AB\n",
        "\n",
        "\n",
        "omat = np.array([[0,1],[-1,0]]) \n",
        "\n",
        "#Triangle sides\n",
        "a = 6\n",
        "b = 5\n",
        "c = 4\n",
        "\n",
        "#Coordinates of A\n",
        "p = (a**2 + c**2-b**2 )/(2*a)\n",
        "q = np.sqrt(c**2-p**2)\n",
        "print(p,q)\n",
        "#Triangle vertices\n",
        "A = np.array([p,q]) \n",
        "B = np.array([0,0]) \n",
        "C = np.array([a,0]) \n",
        "\n",
        "#Generating all lines\n",
        "x_AB = line_gen(A,B)\n",
        "x_BC = line_gen(B,C)\n",
        "x_CA = line_gen(C,A)\n",
        "\n",
        "#Plotting all lines\n",
        "f=plt.figure()\n",
        "plt.plot(x_AB[0,:],x_AB[1,:],label='$AB$')\n",
        "plt.plot(x_BC[0,:],x_BC[1,:],label='$BC$')\n",
        "plt.plot(x_CA[0,:],x_CA[1,:],label='$CA$')\n",
        "\n",
        "plt.plot(A[0], A[1], 'o')\n",
        "plt.text(A[0] * (1 + 0.1), A[1] * (1 - 0.1) , 'A')\n",
        "plt.plot(B[0], B[1], 'o')\n",
        "plt.text(B[0] * (1 - 0.2), B[1] * (1) , 'B')\n",
        "plt.plot(C[0], C[1], 'o')\n",
        "plt.text(C[0] * (1 + 0.03), C[1] * (1 - 0.1) , 'C')\n",
        "\n",
        "plt.xlabel('$x$')\n",
        "plt.ylabel('$y$')\n",
        "plt.legend(loc='best')\n",
        "plt.grid() # minor\n",
        "plt.axis('equal')\n",
        "\n",
        "f.savefig('/content/gdrive/My Drive/Colab Notebooks/tx.png')\n",
        "\n",
        "#if using termux\n",
        "#plt.savefig('./figs/triangle/tri_sss.pdf')\n",
        "#plt.savefig('./figs/triangle/tri_sss.eps')\n",
        "#subprocess.run(shlex.split(\"termux-open ./figs/triangle/tri_sss.pdf\"))\n",
        "#else\n",
        "plt.show()"
      ],
      "execution_count": 2,
      "outputs": [
        {
          "output_type": "stream",
          "text": [
            "2.25 3.307189138830738\n"
          ],
          "name": "stdout"
        },
        {
          "output_type": "display_data",
          "data": {
            "image/png": "[encoded data removed]",
            "text/plain": [
              "<Figure size 432x288 with 1 Axes>"
            ]
          },
          "metadata": {
            "tags": [],
            "needs_background": "light"
          }
        }
      ]
    },
    {
      "cell_type": "code",
      "metadata": {
        "id": "4TTcvQbMaamJ"
      },
      "source": [
        ""
      ],
      "execution_count": null,
      "outputs": []
    }
  ]
}